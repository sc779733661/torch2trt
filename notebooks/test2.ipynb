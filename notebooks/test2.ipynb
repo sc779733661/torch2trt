{
 "metadata": {
  "language_info": {
   "codemirror_mode": {
    "name": "ipython",
    "version": 3
   },
   "file_extension": ".py",
   "mimetype": "text/x-python",
   "name": "python",
   "nbconvert_exporter": "python",
   "pygments_lexer": "ipython3",
   "version": "3.6.12-final"
  },
  "orig_nbformat": 2,
  "kernelspec": {
   "name": "python3",
   "display_name": "Python 3.6.12 64-bit ('pytorch': conda)",
   "metadata": {
    "interpreter": {
     "hash": "49a699ba4cf93c5a8ed621dee10c4ef40c03b98f0c64f19e145a5ba9e7fba236"
    }
   }
  }
 },
 "nbformat": 4,
 "nbformat_minor": 2,
 "cells": [
  {
   "cell_type": "code",
   "execution_count": 2,
   "metadata": {},
   "outputs": [],
   "source": [
    "import torch\n",
    "import torchvision\n",
    "from torch2trt import torch2trt\n",
    "import time\n",
    "\n",
    "# create some regular pytorch model...\n",
    "model = torchvision.models.resnet50(pretrained=True).cuda().half().eval()\n",
    "\n",
    "# create example data\n",
    "x = torch.ones((1, 3, 224, 224)).cuda().half()\n",
    "\n",
    "# convert to TensorRT feeding sample data as input\n",
    "model_trt = torch2trt(model, [x], fp16_mode=True)"
   ]
  },
  {
   "cell_type": "code",
   "execution_count": 3,
   "metadata": {},
   "outputs": [
    {
     "output_type": "stream",
     "name": "stdout",
     "text": [
      "0.008980274200439453 0.0010447502136230469\ntensor(0.0107, device='cuda:0', dtype=torch.float16, grad_fn=<MaxBackward1>)\n"
     ]
    }
   ],
   "source": [
    "time_model_s = time.time()\n",
    "y = model(x)\n",
    "time_model_e = time.time()\n",
    "y_trt = model_trt(x)\n",
    "time_model_trt_e = time.time()\n",
    "\n",
    "print(time_model_e - time_model_s, time_model_trt_e - time_model_e)\n",
    "\n",
    "# check the output against PyTorch\n",
    "print(torch.max(torch.abs(y - y_trt)))"
   ]
  },
  {
   "cell_type": "code",
   "execution_count": 5,
   "metadata": {},
   "outputs": [],
   "source": [
    "torch.save(model_trt.state_dict(), 'resnet50_trt.pth')"
   ]
  },
  {
   "cell_type": "code",
   "execution_count": 6,
   "metadata": {},
   "outputs": [
    {
     "output_type": "execute_result",
     "data": {
      "text/plain": [
       "<All keys matched successfully>"
      ]
     },
     "metadata": {},
     "execution_count": 6
    }
   ],
   "source": [
    "from torch2trt import TRTModule\n",
    "\n",
    "model_trt = TRTModule()\n",
    "\n",
    "model_trt.load_state_dict(torch.load('resnet50_trt.pth'))"
   ]
  }
 ]
}